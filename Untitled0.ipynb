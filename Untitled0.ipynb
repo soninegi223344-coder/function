{
  "nbformat": 4,
  "nbformat_minor": 0,
  "metadata": {
    "colab": {
      "provenance": []
    },
    "kernelspec": {
      "name": "python3",
      "display_name": "Python 3"
    },
    "language_info": {
      "name": "python"
    }
  },
  "cells": [
    {
      "cell_type": "markdown",
      "source": [],
      "metadata": {
        "id": "sfDRhJZ4561O"
      }
    },
    {
      "cell_type": "markdown",
      "source": [
        "# FUNCTION"
      ],
      "metadata": {
        "id": "9z88vxGa5-qI"
      }
    },
    {
      "cell_type": "markdown",
      "source": [
        "# what is you love name?\n",
        "- I have only"
      ],
      "metadata": {
        "id": "sGnbScjm6L31"
      }
    },
    {
      "cell_type": "code",
      "source": [
        "'''\n",
        "jocker\n",
        "'''"
      ],
      "metadata": {
        "colab": {
          "base_uri": "https://localhost:8080/",
          "height": 36
        },
        "id": "EN-jvytn7BHY",
        "outputId": "b8d9dba0-fd2c-4fad-8570-8e70f0f71848"
      },
      "execution_count": 2,
      "outputs": [
        {
          "output_type": "execute_result",
          "data": {
            "text/plain": [
              "'\\njocker\\n'"
            ],
            "application/vnd.google.colaboratory.intrinsic+json": {
              "type": "string"
            }
          },
          "metadata": {},
          "execution_count": 2
        }
      ]
    },
    {
      "cell_type": "code",
      "source": [
        "\"\"\"\n",
        "hekki\n",
        "\"\"\""
      ],
      "metadata": {
        "colab": {
          "base_uri": "https://localhost:8080/",
          "height": 36
        },
        "id": "ekLjdHyA7FZj",
        "outputId": "d3a9c0dd-b98c-431f-dce3-05c2a30569db"
      },
      "execution_count": 3,
      "outputs": [
        {
          "output_type": "execute_result",
          "data": {
            "text/plain": [
              "'\\nhekki\\n'"
            ],
            "application/vnd.google.colaboratory.intrinsic+json": {
              "type": "string"
            }
          },
          "metadata": {},
          "execution_count": 3
        }
      ]
    }
  ]
}